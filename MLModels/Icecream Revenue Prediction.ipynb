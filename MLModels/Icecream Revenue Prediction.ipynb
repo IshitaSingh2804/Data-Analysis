{
 "cells": [
  {
   "cell_type": "markdown",
   "id": "1281bc81",
   "metadata": {},
   "source": [
    "# Icecream Revenue Prediction"
   ]
  },
  {
   "cell_type": "code",
   "execution_count": 1,
   "id": "02d1a222",
   "metadata": {},
   "outputs": [],
   "source": [
    "#step 1: import library\n",
    "import pandas as pd"
   ]
  },
  {
   "cell_type": "code",
   "execution_count": 2,
   "id": "61ffd12a",
   "metadata": {},
   "outputs": [],
   "source": [
    "#step 2: import data\n",
    "icecream = pd.read_csv('https://github.com/YBI-Foundation/Dataset/raw/main/Ice%20Cream.csv')"
   ]
  },
  {
   "cell_type": "code",
   "execution_count": 3,
   "id": "cc5008bf",
   "metadata": {},
   "outputs": [
    {
     "data": {
      "text/html": [
       "<div>\n",
       "<style scoped>\n",
       "    .dataframe tbody tr th:only-of-type {\n",
       "        vertical-align: middle;\n",
       "    }\n",
       "\n",
       "    .dataframe tbody tr th {\n",
       "        vertical-align: top;\n",
       "    }\n",
       "\n",
       "    .dataframe thead th {\n",
       "        text-align: right;\n",
       "    }\n",
       "</style>\n",
       "<table border=\"1\" class=\"dataframe\">\n",
       "  <thead>\n",
       "    <tr style=\"text-align: right;\">\n",
       "      <th></th>\n",
       "      <th>Temperature</th>\n",
       "      <th>Revenue</th>\n",
       "    </tr>\n",
       "  </thead>\n",
       "  <tbody>\n",
       "    <tr>\n",
       "      <th>0</th>\n",
       "      <td>24.6</td>\n",
       "      <td>535</td>\n",
       "    </tr>\n",
       "    <tr>\n",
       "      <th>1</th>\n",
       "      <td>26.1</td>\n",
       "      <td>626</td>\n",
       "    </tr>\n",
       "    <tr>\n",
       "      <th>2</th>\n",
       "      <td>27.8</td>\n",
       "      <td>661</td>\n",
       "    </tr>\n",
       "    <tr>\n",
       "      <th>3</th>\n",
       "      <td>20.6</td>\n",
       "      <td>488</td>\n",
       "    </tr>\n",
       "    <tr>\n",
       "      <th>4</th>\n",
       "      <td>11.6</td>\n",
       "      <td>317</td>\n",
       "    </tr>\n",
       "  </tbody>\n",
       "</table>\n",
       "</div>"
      ],
      "text/plain": [
       "   Temperature  Revenue\n",
       "0         24.6      535\n",
       "1         26.1      626\n",
       "2         27.8      661\n",
       "3         20.6      488\n",
       "4         11.6      317"
      ]
     },
     "execution_count": 3,
     "metadata": {},
     "output_type": "execute_result"
    }
   ],
   "source": [
    "icecream.head()"
   ]
  },
  {
   "cell_type": "code",
   "execution_count": 4,
   "id": "5ab0299b",
   "metadata": {},
   "outputs": [
    {
     "name": "stdout",
     "output_type": "stream",
     "text": [
      "<class 'pandas.core.frame.DataFrame'>\n",
      "RangeIndex: 500 entries, 0 to 499\n",
      "Data columns (total 2 columns):\n",
      " #   Column       Non-Null Count  Dtype  \n",
      "---  ------       --------------  -----  \n",
      " 0   Temperature  500 non-null    float64\n",
      " 1   Revenue      500 non-null    int64  \n",
      "dtypes: float64(1), int64(1)\n",
      "memory usage: 7.9 KB\n"
     ]
    }
   ],
   "source": [
    "icecream.info()"
   ]
  },
  {
   "cell_type": "code",
   "execution_count": 5,
   "id": "b9682582",
   "metadata": {},
   "outputs": [
    {
     "data": {
      "text/html": [
       "<div>\n",
       "<style scoped>\n",
       "    .dataframe tbody tr th:only-of-type {\n",
       "        vertical-align: middle;\n",
       "    }\n",
       "\n",
       "    .dataframe tbody tr th {\n",
       "        vertical-align: top;\n",
       "    }\n",
       "\n",
       "    .dataframe thead th {\n",
       "        text-align: right;\n",
       "    }\n",
       "</style>\n",
       "<table border=\"1\" class=\"dataframe\">\n",
       "  <thead>\n",
       "    <tr style=\"text-align: right;\">\n",
       "      <th></th>\n",
       "      <th>Temperature</th>\n",
       "      <th>Revenue</th>\n",
       "    </tr>\n",
       "  </thead>\n",
       "  <tbody>\n",
       "    <tr>\n",
       "      <th>count</th>\n",
       "      <td>500.000000</td>\n",
       "      <td>500.000000</td>\n",
       "    </tr>\n",
       "    <tr>\n",
       "      <th>mean</th>\n",
       "      <td>22.281600</td>\n",
       "      <td>522.058000</td>\n",
       "    </tr>\n",
       "    <tr>\n",
       "      <th>std</th>\n",
       "      <td>8.097597</td>\n",
       "      <td>175.410399</td>\n",
       "    </tr>\n",
       "    <tr>\n",
       "      <th>min</th>\n",
       "      <td>0.000000</td>\n",
       "      <td>10.000000</td>\n",
       "    </tr>\n",
       "    <tr>\n",
       "      <th>25%</th>\n",
       "      <td>17.175000</td>\n",
       "      <td>406.000000</td>\n",
       "    </tr>\n",
       "    <tr>\n",
       "      <th>50%</th>\n",
       "      <td>22.400000</td>\n",
       "      <td>530.000000</td>\n",
       "    </tr>\n",
       "    <tr>\n",
       "      <th>75%</th>\n",
       "      <td>27.800000</td>\n",
       "      <td>643.000000</td>\n",
       "    </tr>\n",
       "    <tr>\n",
       "      <th>max</th>\n",
       "      <td>45.000000</td>\n",
       "      <td>1000.000000</td>\n",
       "    </tr>\n",
       "  </tbody>\n",
       "</table>\n",
       "</div>"
      ],
      "text/plain": [
       "       Temperature      Revenue\n",
       "count   500.000000   500.000000\n",
       "mean     22.281600   522.058000\n",
       "std       8.097597   175.410399\n",
       "min       0.000000    10.000000\n",
       "25%      17.175000   406.000000\n",
       "50%      22.400000   530.000000\n",
       "75%      27.800000   643.000000\n",
       "max      45.000000  1000.000000"
      ]
     },
     "execution_count": 5,
     "metadata": {},
     "output_type": "execute_result"
    }
   ],
   "source": [
    "icecream.describe()"
   ]
  },
  {
   "cell_type": "code",
   "execution_count": 6,
   "id": "5decf20f",
   "metadata": {},
   "outputs": [
    {
     "data": {
      "text/plain": [
       "Index(['Temperature', 'Revenue'], dtype='object')"
      ]
     },
     "execution_count": 6,
     "metadata": {},
     "output_type": "execute_result"
    }
   ],
   "source": [
    "#step 3: define target (y) and features (X)\n",
    "icecream.columns"
   ]
  },
  {
   "cell_type": "code",
   "execution_count": 7,
   "id": "8f006a65",
   "metadata": {},
   "outputs": [],
   "source": [
    "y = icecream['Revenue']"
   ]
  },
  {
   "cell_type": "code",
   "execution_count": 8,
   "id": "0312065c",
   "metadata": {},
   "outputs": [],
   "source": [
    "X = icecream[['Temperature']]"
   ]
  },
  {
   "cell_type": "code",
   "execution_count": 9,
   "id": "1f35a233",
   "metadata": {},
   "outputs": [],
   "source": [
    "#step 4: train test split\n",
    "from sklearn.model_selection import train_test_split\n",
    "X_train, X_test, y_train, y_test = train_test_split(X,y,train_size=0.7,random_state=2529)"
   ]
  },
  {
   "cell_type": "code",
   "execution_count": 10,
   "id": "70e54046",
   "metadata": {},
   "outputs": [
    {
     "data": {
      "text/plain": [
       "((350, 1), (150, 1), (350,), (150,))"
      ]
     },
     "execution_count": 10,
     "metadata": {},
     "output_type": "execute_result"
    }
   ],
   "source": [
    "X_train.shape, X_test.shape, y_train.shape, y_test.shape"
   ]
  },
  {
   "cell_type": "code",
   "execution_count": 11,
   "id": "3a06d721",
   "metadata": {},
   "outputs": [],
   "source": [
    "#step 5: select model\n",
    "from sklearn.linear_model import LinearRegression\n",
    "model = LinearRegression()"
   ]
  },
  {
   "cell_type": "code",
   "execution_count": 12,
   "id": "76300011",
   "metadata": {},
   "outputs": [
    {
     "data": {
      "text/html": [
       "<style>#sk-container-id-1 {color: black;background-color: white;}#sk-container-id-1 pre{padding: 0;}#sk-container-id-1 div.sk-toggleable {background-color: white;}#sk-container-id-1 label.sk-toggleable__label {cursor: pointer;display: block;width: 100%;margin-bottom: 0;padding: 0.3em;box-sizing: border-box;text-align: center;}#sk-container-id-1 label.sk-toggleable__label-arrow:before {content: \"▸\";float: left;margin-right: 0.25em;color: #696969;}#sk-container-id-1 label.sk-toggleable__label-arrow:hover:before {color: black;}#sk-container-id-1 div.sk-estimator:hover label.sk-toggleable__label-arrow:before {color: black;}#sk-container-id-1 div.sk-toggleable__content {max-height: 0;max-width: 0;overflow: hidden;text-align: left;background-color: #f0f8ff;}#sk-container-id-1 div.sk-toggleable__content pre {margin: 0.2em;color: black;border-radius: 0.25em;background-color: #f0f8ff;}#sk-container-id-1 input.sk-toggleable__control:checked~div.sk-toggleable__content {max-height: 200px;max-width: 100%;overflow: auto;}#sk-container-id-1 input.sk-toggleable__control:checked~label.sk-toggleable__label-arrow:before {content: \"▾\";}#sk-container-id-1 div.sk-estimator input.sk-toggleable__control:checked~label.sk-toggleable__label {background-color: #d4ebff;}#sk-container-id-1 div.sk-label input.sk-toggleable__control:checked~label.sk-toggleable__label {background-color: #d4ebff;}#sk-container-id-1 input.sk-hidden--visually {border: 0;clip: rect(1px 1px 1px 1px);clip: rect(1px, 1px, 1px, 1px);height: 1px;margin: -1px;overflow: hidden;padding: 0;position: absolute;width: 1px;}#sk-container-id-1 div.sk-estimator {font-family: monospace;background-color: #f0f8ff;border: 1px dotted black;border-radius: 0.25em;box-sizing: border-box;margin-bottom: 0.5em;}#sk-container-id-1 div.sk-estimator:hover {background-color: #d4ebff;}#sk-container-id-1 div.sk-parallel-item::after {content: \"\";width: 100%;border-bottom: 1px solid gray;flex-grow: 1;}#sk-container-id-1 div.sk-label:hover label.sk-toggleable__label {background-color: #d4ebff;}#sk-container-id-1 div.sk-serial::before {content: \"\";position: absolute;border-left: 1px solid gray;box-sizing: border-box;top: 0;bottom: 0;left: 50%;z-index: 0;}#sk-container-id-1 div.sk-serial {display: flex;flex-direction: column;align-items: center;background-color: white;padding-right: 0.2em;padding-left: 0.2em;position: relative;}#sk-container-id-1 div.sk-item {position: relative;z-index: 1;}#sk-container-id-1 div.sk-parallel {display: flex;align-items: stretch;justify-content: center;background-color: white;position: relative;}#sk-container-id-1 div.sk-item::before, #sk-container-id-1 div.sk-parallel-item::before {content: \"\";position: absolute;border-left: 1px solid gray;box-sizing: border-box;top: 0;bottom: 0;left: 50%;z-index: -1;}#sk-container-id-1 div.sk-parallel-item {display: flex;flex-direction: column;z-index: 1;position: relative;background-color: white;}#sk-container-id-1 div.sk-parallel-item:first-child::after {align-self: flex-end;width: 50%;}#sk-container-id-1 div.sk-parallel-item:last-child::after {align-self: flex-start;width: 50%;}#sk-container-id-1 div.sk-parallel-item:only-child::after {width: 0;}#sk-container-id-1 div.sk-dashed-wrapped {border: 1px dashed gray;margin: 0 0.4em 0.5em 0.4em;box-sizing: border-box;padding-bottom: 0.4em;background-color: white;}#sk-container-id-1 div.sk-label label {font-family: monospace;font-weight: bold;display: inline-block;line-height: 1.2em;}#sk-container-id-1 div.sk-label-container {text-align: center;}#sk-container-id-1 div.sk-container {/* jupyter's `normalize.less` sets `[hidden] { display: none; }` but bootstrap.min.css set `[hidden] { display: none !important; }` so we also need the `!important` here to be able to override the default hidden behavior on the sphinx rendered scikit-learn.org. See: https://github.com/scikit-learn/scikit-learn/issues/21755 */display: inline-block !important;position: relative;}#sk-container-id-1 div.sk-text-repr-fallback {display: none;}</style><div id=\"sk-container-id-1\" class=\"sk-top-container\"><div class=\"sk-text-repr-fallback\"><pre>LinearRegression()</pre><b>In a Jupyter environment, please rerun this cell to show the HTML representation or trust the notebook. <br />On GitHub, the HTML representation is unable to render, please try loading this page with nbviewer.org.</b></div><div class=\"sk-container\" hidden><div class=\"sk-item\"><div class=\"sk-estimator sk-toggleable\"><input class=\"sk-toggleable__control sk-hidden--visually\" id=\"sk-estimator-id-1\" type=\"checkbox\" checked><label for=\"sk-estimator-id-1\" class=\"sk-toggleable__label sk-toggleable__label-arrow\">LinearRegression</label><div class=\"sk-toggleable__content\"><pre>LinearRegression()</pre></div></div></div></div></div>"
      ],
      "text/plain": [
       "LinearRegression()"
      ]
     },
     "execution_count": 12,
     "metadata": {},
     "output_type": "execute_result"
    }
   ],
   "source": [
    "#step 6: train model\n",
    "model.fit(X_train,y_train)"
   ]
  },
  {
   "cell_type": "code",
   "execution_count": 13,
   "id": "5e37d7de",
   "metadata": {},
   "outputs": [
    {
     "data": {
      "text/plain": [
       "42.44477259083931"
      ]
     },
     "execution_count": 13,
     "metadata": {},
     "output_type": "execute_result"
    }
   ],
   "source": [
    "model.intercept_"
   ]
  },
  {
   "cell_type": "code",
   "execution_count": 14,
   "id": "1288d24c",
   "metadata": {},
   "outputs": [
    {
     "data": {
      "text/plain": [
       "array([21.54587147])"
      ]
     },
     "execution_count": 14,
     "metadata": {},
     "output_type": "execute_result"
    }
   ],
   "source": [
    "model.coef_"
   ]
  },
  {
   "cell_type": "code",
   "execution_count": 15,
   "id": "4c632546",
   "metadata": {},
   "outputs": [],
   "source": [
    "#step 7: predict model\n",
    "y_pred = model.predict(X_test)"
   ]
  },
  {
   "cell_type": "code",
   "execution_count": 16,
   "id": "0669edb4",
   "metadata": {},
   "outputs": [
    {
     "data": {
      "text/plain": [
       "array([645.7291738 , 380.7149547 , 180.33835001, 247.13055157,\n",
       "       415.18834905, 283.75853308, 372.09660611, 671.58421957,\n",
       "       675.89339386, 684.51174245, 531.536055  , 613.41036659,\n",
       "       361.32367037, 303.1498174 , 158.79247854, 473.36220203,\n",
       "       611.25577945, 615.56495374, 512.14477068, 805.16862269,\n",
       "       268.67642305, 441.04339482, 436.73422053, 861.18788852,\n",
       "       531.536055  , 216.96633151, 725.44889825, 311.76816599,\n",
       "       505.68100924, 466.89844059, 684.51174245, 960.29889729,\n",
       "       550.92733933, 615.56495374, 367.78743182, 404.41541332,\n",
       "       413.03376191, 662.96587098, 876.26999855, 544.46357788,\n",
       "       811.63238414, 686.6663296 , 486.28972491, 322.54110172,\n",
       "       637.11082521, 798.70486125, 438.88880767, 790.08651266,\n",
       "       684.51174245, 497.06266065, 380.7149547 , 479.82596347,\n",
       "       479.82596347, 563.85486221, 665.12045813, 453.9709177 ,\n",
       "       688.82091675, 647.88376095, 391.48789043, 662.96587098,\n",
       "       507.83559638, 309.61357884, 397.95165188, 199.72963434,\n",
       "       387.17871614, 658.65669669, 441.04339482, 395.79706473,\n",
       "       652.19293524, 841.7966042 , 581.09155939, 352.70532179,\n",
       "       734.06724684, 350.55073464, 253.59431301, 449.66174341,\n",
       "       637.11082521, 135.09201992, 594.01908227, 669.42963242,\n",
       "       699.59385248, 598.32825656, 469.05302773, 912.89798005,\n",
       "       697.43926533, 835.33284275, 527.22688071, 902.12504432,\n",
       "       352.70532179, 423.80669764, 591.86449512, 656.50210954,\n",
       "       548.77275218, 188.9566986 , 641.41999951, 641.41999951,\n",
       "       572.4732108 , 486.28972491, 469.05302773, 632.80165092,\n",
       "       512.14477068, 292.37688166, 729.75807254, 477.67137632,\n",
       "        63.99064406, 395.79706473, 591.86449512, 469.05302773,\n",
       "       568.1640365 , 602.63743086, 736.22183398, 492.75348635,\n",
       "       337.62321175, 656.50210954, 423.80669764, 313.92275314,\n",
       "       458.280092  , 419.49752335, 456.12550485, 559.54568791,\n",
       "       522.91770641, 206.19339578, 742.68559543, 673.73880672,\n",
       "       367.78743182, 690.97550389, 712.52137536, 520.76311927,\n",
       "       309.61357884, 626.33788948, 803.01403555, 576.78238509,\n",
       "       738.37642113, 645.7291738 , 453.9709177 , 578.93697224,\n",
       "       566.00944936, 589.70990798, 447.50715626, 434.57963338,\n",
       "       555.23651362, 509.99018353, 641.41999951, 475.51678917,\n",
       "       441.04339482, 703.90302678, 410.87917476, 462.58926629,\n",
       "       410.87917476, 305.30440455])"
      ]
     },
     "execution_count": 16,
     "metadata": {},
     "output_type": "execute_result"
    }
   ],
   "source": [
    "y_pred"
   ]
  },
  {
   "cell_type": "code",
   "execution_count": 17,
   "id": "fddb681c",
   "metadata": {},
   "outputs": [],
   "source": [
    "#step 8: model accuracy\n",
    "from sklearn.metrics import mean_absolute_error, mean_absolute_percentage_error, mean_squared_error"
   ]
  },
  {
   "cell_type": "code",
   "execution_count": 18,
   "id": "c08fe4c0",
   "metadata": {},
   "outputs": [
    {
     "data": {
      "text/plain": [
       "19.13868744427074"
      ]
     },
     "execution_count": 18,
     "metadata": {},
     "output_type": "execute_result"
    }
   ],
   "source": [
    "mean_absolute_error(y_test,y_pred)"
   ]
  },
  {
   "cell_type": "code",
   "execution_count": 19,
   "id": "c80271af",
   "metadata": {},
   "outputs": [
    {
     "data": {
      "text/plain": [
       "0.0422148482194201"
      ]
     },
     "execution_count": 19,
     "metadata": {},
     "output_type": "execute_result"
    }
   ],
   "source": [
    "mean_absolute_percentage_error(y_test,y_pred)"
   ]
  },
  {
   "cell_type": "code",
   "execution_count": 20,
   "id": "567bcf66",
   "metadata": {},
   "outputs": [
    {
     "data": {
      "text/plain": [
       "583.7362763558351"
      ]
     },
     "execution_count": 20,
     "metadata": {},
     "output_type": "execute_result"
    }
   ],
   "source": [
    "mean_squared_error(y_test,y_pred)"
   ]
  }
 ],
 "metadata": {
  "kernelspec": {
   "display_name": "Python 3 (ipykernel)",
   "language": "python",
   "name": "python3"
  },
  "language_info": {
   "codemirror_mode": {
    "name": "ipython",
    "version": 3
   },
   "file_extension": ".py",
   "mimetype": "text/x-python",
   "name": "python",
   "nbconvert_exporter": "python",
   "pygments_lexer": "ipython3",
   "version": "3.10.9"
  }
 },
 "nbformat": 4,
 "nbformat_minor": 5
}
